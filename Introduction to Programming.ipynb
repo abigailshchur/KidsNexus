{
 "cells": [
  {
   "cell_type": "markdown",
   "metadata": {},
   "source": [
    "## Introduction to Programming"
   ]
  },
  {
   "cell_type": "markdown",
   "metadata": {},
   "source": [
    "#### 1. Printing"
   ]
  },
  {
   "cell_type": "code",
   "execution_count": 10,
   "metadata": {},
   "outputs": [
    {
     "name": "stdout",
     "output_type": "stream",
     "text": [
      "Hello World\n",
      "4\n",
      "0\n",
      "0.5\n"
     ]
    }
   ],
   "source": [
    "print(\"Hello World\")\n",
    "print(2 + 2)\n",
    "print(1 / 2)\n",
    "print(1 / 2.0)"
   ]
  },
  {
   "cell_type": "markdown",
   "metadata": {},
   "source": [
    "Try to print something below:"
   ]
  },
  {
   "cell_type": "code",
   "execution_count": 11,
   "metadata": {},
   "outputs": [],
   "source": [
    "### WRITE SOME CODE TO PRINT SOMETHING ON THE NEXT LINE ###\n"
   ]
  },
  {
   "cell_type": "markdown",
   "metadata": {},
   "source": [
    "#### 2. Variables and Types"
   ]
  },
  {
   "cell_type": "code",
   "execution_count": 17,
   "metadata": {},
   "outputs": [
    {
     "name": "stdout",
     "output_type": "stream",
     "text": [
      "num 1 + num2: \n",
      "7\n",
      "\n",
      "num2 - num1: \n",
      "3\n",
      "\n",
      "num1 * num2\n",
      "10\n",
      "\n",
      "num1 / num2\n",
      "0\n",
      "\n",
      "num2 ** num1\n",
      "25\n"
     ]
    }
   ],
   "source": [
    "### INTEGERS ###\n",
    "num1 = 2\n",
    "num2 = 5\n",
    "print(\"num 1 + num2: \")\n",
    "print(num1 + num2) # Question 1\n",
    "print(\"\\nnum2 - num1: \")\n",
    "print(num2 - num1) # Question 2\n",
    "print(\"\\nnum1 * num2\")\n",
    "print(num1 * num2) # Question 3\n",
    "print(\"\\nnum1 / num2\")\n",
    "print(num1 / num2) # Question 4\n",
    "print(\"\\nnum2 ** num1\")\n",
    "print(num2 ** num1) # Question 5"
   ]
  },
  {
   "cell_type": "code",
   "execution_count": null,
   "metadata": {},
   "outputs": [],
   "source": [
    "### FLOATS ###\n",
    "num1 = 2\n",
    "num2 = 5\n",
    "num3 = 5.0"
   ]
  },
  {
   "cell_type": "code",
   "execution_count": 18,
   "metadata": {},
   "outputs": [],
   "source": [
    "text_file = open(\"words.txt\", \"r\")\n",
    "lines = text_file.read().split('\\n')"
   ]
  },
  {
   "cell_type": "code",
   "execution_count": 42,
   "metadata": {},
   "outputs": [
    {
     "data": {
      "text/plain": [
       "1"
      ]
     },
     "execution_count": 42,
     "metadata": {},
     "output_type": "execute_result"
    }
   ],
   "source": [
    "import random\n",
    "random.randint(1,2)"
   ]
  },
  {
   "cell_type": "code",
   "execution_count": 52,
   "metadata": {},
   "outputs": [
    {
     "data": {
      "text/plain": [
       "9"
      ]
     },
     "execution_count": 52,
     "metadata": {},
     "output_type": "execute_result"
    }
   ],
   "source": [
    "a = [\"*\"]*10\n",
    "a[0]=2\n",
    "sum([i=='*' for i in a])"
   ]
  },
  {
   "cell_type": "code",
   "execution_count": 54,
   "metadata": {},
   "outputs": [
    {
     "data": {
      "text/plain": [
       "['hello']"
      ]
     },
     "execution_count": 54,
     "metadata": {},
     "output_type": "execute_result"
    }
   ],
   "source": [
    "'hello'.split()"
   ]
  },
  {
   "cell_type": "code",
   "execution_count": 45,
   "metadata": {},
   "outputs": [
    {
     "name": "stdout",
     "output_type": "stream",
     "text": [
      "**********\n"
     ]
    }
   ],
   "source": [
    "a = [\"*\"]*10\n",
    "def print_lst(lst):\n",
    "\treturn ''.join(lst)\n",
    "print(print_lst(a))"
   ]
  }
 ],
 "metadata": {
  "kernelspec": {
   "display_name": "Python 2",
   "language": "python",
   "name": "python2"
  },
  "language_info": {
   "codemirror_mode": {
    "name": "ipython",
    "version": 2
   },
   "file_extension": ".py",
   "mimetype": "text/x-python",
   "name": "python",
   "nbconvert_exporter": "python",
   "pygments_lexer": "ipython2",
   "version": "2.7.14"
  }
 },
 "nbformat": 4,
 "nbformat_minor": 2
}
